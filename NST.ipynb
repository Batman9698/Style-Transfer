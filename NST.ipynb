{
 "cells": [
  {
   "cell_type": "code",
   "execution_count": null,
   "metadata": {
    "scrolled": true
   },
   "outputs": [],
   "source": [
    "import Utils\n",
    "import vgg\n",
    "import numpy as np\n",
    "import matplotlib.pyplot as plt\n",
    "import os\n",
    "from torch import optim, mean"
   ]
  },
  {
   "cell_type": "code",
   "execution_count": null,
   "metadata": {},
   "outputs": [],
   "source": [
    "content_path = '<path to the content image here>'\n",
    "style_path = '<path to the style image here>'"
   ]
  },
  {
   "cell_type": "code",
   "execution_count": null,
   "metadata": {},
   "outputs": [],
   "source": [
    "content_image = Utils.openImage(content_path, shape = (500,500))\n",
    "style_image = Utils.openImage(style_path, shape = (500,500))"
   ]
  },
  {
   "cell_type": "code",
   "execution_count": null,
   "metadata": {},
   "outputs": [],
   "source": [
    "content_representation = vgg.getFeatures(content_image)"
   ]
  },
  {
   "cell_type": "code",
   "execution_count": null,
   "metadata": {},
   "outputs": [],
   "source": [
    "style_features = vgg.getFeatures(style_image)"
   ]
  },
  {
   "cell_type": "code",
   "execution_count": null,
   "metadata": {},
   "outputs": [],
   "source": [
    "style_representation = {layer: vgg.grammatrix(style_features[layer]) for layer in style_features}"
   ]
  },
  {
   "cell_type": "code",
   "execution_count": null,
   "metadata": {},
   "outputs": [],
   "source": [
    "target_image = content_image.clone().requires_grad_(True)"
   ]
  },
  {
   "cell_type": "code",
   "execution_count": null,
   "metadata": {},
   "outputs": [],
   "source": [
    "style_weights = {'conv1_1':1.0,\n",
    "                'conv2_1':1.0,\n",
    "                'conv3_1':0.8,\n",
    "                'conv4_1':0.3,\n",
    "                'conv5_1':0.1\n",
    "                }\n",
    "alpha = 1\n",
    "beta = 1e12"
   ]
  },
  {
   "cell_type": "code",
   "execution_count": null,
   "metadata": {},
   "outputs": [],
   "source": [
    "optimizer = optim.Adam([target_image], lr = 0.005)"
   ]
  },
  {
   "cell_type": "code",
   "execution_count": null,
   "metadata": {},
   "outputs": [],
   "source": [
    "epochs = 3000\n",
    "for epoch in range(epochs):\n",
    "    target_features = vgg.getFeatures(target_image)\n",
    "    content_loss = mean((target_features['conv4_2'] - content_representation['conv4_2'])**2)\n",
    "    style_loss = 0.0\n",
    "    for layer in style_weights:\n",
    "        target_feature = target_features[layer]\n",
    "        _, d, h, w = target_feature.shape\n",
    "        layer_style_loss = style_weights[layer] * mean((vgg.grammatrix(target_feature) - style_representation[layer])**2)\n",
    "        style_loss += layer_style_loss/(d*h*w)\n",
    "    total_loss = alpha*content_loss + beta*style_loss\n",
    "    \n",
    "    optimizer.zero_grad()\n",
    "    total_loss.backward(retain_graph = True)\n",
    "    optimizer.step()\n",
    "    if epoch%100 == 0:\n",
    "        print('loss:',total_loss.item())\n",
    "        plt.imshow(Utils.convertImage(target_image))\n",
    "        plt.show()"
   ]
  },
  {
   "cell_type": "code",
   "execution_count": null,
   "metadata": {},
   "outputs": [],
   "source": [
    "fig, (ax1, ax2, ax3) = plt.subplots(1, 3, figsize = (30, 10))\n",
    "ax1.imshow(Utils.convertImage(content_image))\n",
    "ax1.axis('off')\n",
    "ax2.imshow(Utils.convertImage(style_image))\n",
    "ax2.axis('off')\n",
    "ax3.imshow(Utils.convertImage(target_image))\n",
    "ax3.axis('off')"
   ]
  },
  {
   "cell_type": "code",
   "execution_count": null,
   "metadata": {},
   "outputs": [],
   "source": []
  }
 ],
 "metadata": {
  "kernelspec": {
   "display_name": "Python 3",
   "language": "python",
   "name": "python3"
  },
  "language_info": {
   "codemirror_mode": {
    "name": "ipython",
    "version": 3
   },
   "file_extension": ".py",
   "mimetype": "text/x-python",
   "name": "python",
   "nbconvert_exporter": "python",
   "pygments_lexer": "ipython3",
   "version": "3.6.8"
  }
 },
 "nbformat": 4,
 "nbformat_minor": 4
}
